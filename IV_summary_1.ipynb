{
 "cells": [
  {
   "cell_type": "markdown",
   "metadata": {},
   "source": [
    "# [Calculate Option Implied Volatility In Python](https://pythoninoffice.com/calculate-option-implied-volatility-in-python/)"
   ]
  },
  {
   "cell_type": "markdown",
   "metadata": {},
   "source": [
    "## Black Scholes Option Pricing Formula In Python"
   ]
  },
  {
   "cell_type": "code",
   "execution_count": 1,
   "metadata": {},
   "outputs": [],
   "source": [
    "import scipy.stats\n",
    "from numpy import sqrt, log, exp, pi\n",
    "\n",
    "N = scipy.stats.norm.cdf\n",
    "\n",
    "\n",
    "def Bs_price(c_p, S, K, r, t, sigma):\n",
    "    d1 = (log(S/K) + (r+sigma**2/2)*t) / (sigma*sqrt(t))\n",
    "    d2 = d1 - sigma * sqrt(t)\n",
    "    if c_p == 'c':\n",
    "        return N(d1) * S - N(d2) * K * exp(-r*t)\n",
    "    elif c_p == 'p':\n",
    "        return N(-d2) * K * exp(-r*t) - N(-d1) * S\n",
    "    else:\n",
    "        return \"Please specify call or put options.\""
   ]
  },
  {
   "cell_type": "markdown",
   "metadata": {},
   "source": [
    "## Calculating Implied Volatility In Python Brute Force Method"
   ]
  },
  {
   "cell_type": "code",
   "execution_count": 2,
   "metadata": {},
   "outputs": [],
   "source": [
    "ONE_CENT = 0.01\n",
    "step = 0.0001\n",
    "\n",
    "def brute_force(c_p, S, K, r, t, market_price):\n",
    "        _sigma = 0.5\n",
    "        for i in range(10000): #max number of calculations is 10000\n",
    "            bs_price = Bs_price(c_p, S, K, r, t, sigma = _sigma)\n",
    "            diff = market_price - bs_price\n",
    "            if diff > ONE_CENT:\n",
    "                _sigma = _sigma + step\n",
    "            elif diff < 0 and abs(diff) > ONE_CENT:\n",
    "                _sigma = _sigma - step\n",
    "            elif abs(diff) < ONE_CENT:\n",
    "                return _sigma\n",
    "        return _sigma"
   ]
  },
  {
   "cell_type": "markdown",
   "metadata": {},
   "source": [
    "## Calculate Option Implied Volatility In Python – Newton Raphson Method\n"
   ]
  },
  {
   "cell_type": "markdown",
   "metadata": {},
   "source": [
    "In this context:\n",
    "\n",
    "* x is σ (sigma), implied volatility that we are trying to solve\n",
    "* f(x) is a function that is the theoretical (BS) option price – the actual option price. In other words, we want f(x) = BS_price – market_price = 0\n",
    "* The derivative of f(x), or f'(σ) is actually known as Vega, or the option price sensitivity to implied volatility. We can calculate Vega easily using the below formula. Note the notation N'() is the standard normal probability density function.\n",
    "\n",
    "$$Vega=SN^\\prime(d_1)\\sqrt{(T-t)}$$"
   ]
  },
  {
   "cell_type": "code",
   "execution_count": 3,
   "metadata": {},
   "outputs": [],
   "source": [
    "N_prime=scipy.stats.norm.pdf"
   ]
  },
  {
   "cell_type": "code",
   "execution_count": 4,
   "metadata": {},
   "outputs": [],
   "source": [
    "MAX_TRY = 1000\n",
    "def find_iv_newton(c_p, S, K, r, t, market_price):\n",
    "    _sigma = 0.5\n",
    "    for i in range(MAX_TRY):\n",
    "        _bs_price = Bs_price(c_p,S, K, r, t, sigma=_sigma)\n",
    "        d1 = (log(S/K) + (r+_sigma**2/2)*t) / (_sigma*sqrt(t))\n",
    "        diff = market_price - _bs_price\n",
    "        vega = S*N_prime(d1)*sqrt(t)\n",
    "        if abs(diff) < ONE_CENT:\n",
    "            return _sigma\n",
    "        _sigma += diff/vega\n",
    "    return _sigma"
   ]
  },
  {
   "cell_type": "code",
   "execution_count": 5,
   "metadata": {},
   "outputs": [
    {
     "name": "stdout",
     "output_type": "stream",
     "text": [
      "1.4999999999998899\n",
      "finished in 2.7135889530181885 seconds\n"
     ]
    }
   ],
   "source": [
    "import time\n",
    "#这里应该是错得\n",
    "start = time.time()\n",
    "sigma = brute_force('c',100,120,0.02,30/365, 50.67)\n",
    "print(sigma)\n",
    "print(f'finished in {time.time() - start} seconds')\n"
   ]
  },
  {
   "cell_type": "code",
   "execution_count": 6,
   "metadata": {},
   "outputs": [
    {
     "data": {
      "text/plain": [
       "10.406113194441492"
      ]
     },
     "execution_count": 6,
     "metadata": {},
     "output_type": "execute_result"
    }
   ],
   "source": [
    "Bs_price('c', 100, 120, 0.02, 30/365, sigma)"
   ]
  },
  {
   "cell_type": "code",
   "execution_count": 7,
   "metadata": {},
   "outputs": [],
   "source": [
    "#牛顿法没问题\n",
    "iv=find_iv_newton('c',100,120,0.02,30/365, 90.67)"
   ]
  },
  {
   "cell_type": "code",
   "execution_count": 8,
   "metadata": {},
   "outputs": [
    {
     "data": {
      "text/plain": [
       "90.6699757666178"
      ]
     },
     "execution_count": 8,
     "metadata": {},
     "output_type": "execute_result"
    }
   ],
   "source": [
    "Bs_price('c', 100, 120, 0.02, 30/365, iv)"
   ]
  },
  {
   "cell_type": "code",
   "execution_count": null,
   "metadata": {},
   "outputs": [],
   "source": []
  }
 ],
 "metadata": {
  "kernelspec": {
   "display_name": "Python 3.8.12 ('tf2')",
   "language": "python",
   "name": "python3"
  },
  "language_info": {
   "codemirror_mode": {
    "name": "ipython",
    "version": 3
   },
   "file_extension": ".py",
   "mimetype": "text/x-python",
   "name": "python",
   "nbconvert_exporter": "python",
   "pygments_lexer": "ipython3",
   "version": "3.8.12"
  },
  "orig_nbformat": 4,
  "vscode": {
   "interpreter": {
    "hash": "d4b8c2c3dcda12b88a1de234d9dc100e2200b96fd567ceed47d2fbc5f06223af"
   }
  }
 },
 "nbformat": 4,
 "nbformat_minor": 2
}
