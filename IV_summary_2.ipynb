{
 "cells": [
  {
   "cell_type": "markdown",
   "metadata": {},
   "source": [
    "# [Fast Implied Volatility Calculation in Python](https://stackoverflow.com/questions/61289020/fast-implied-volatility-calculation-in-python)\n",
    "\n",
    "\n",
    "\n",
    "I am looking for a library which i can use for faster way to calculate implied volatility in python. I have options data about 1+ million rows for which i want to calculate implied volatility. what would be the fastest way i can calculate IV's. I have tried using py_vollib but it doesnt support vectorization. It takes about 5 mins approx. to calculate. Are there any other libraries which can help in faster calculation. What do people use in real time volatility calculations where there are millions of rows coming in every second?"
   ]
  },
  {
   "cell_type": "markdown",
   "metadata": {},
   "source": [
    "## An example with Newton's Method"
   ]
  },
  {
   "cell_type": "code",
   "execution_count": 1,
   "metadata": {},
   "outputs": [],
   "source": [
    "import numpy as np\n",
    "from scipy.stats import norm\n",
    "N = norm.cdf\n",
    "\n",
    "def bs_call(S, K, T, r, vol):\n",
    "    d1 = (np.log(S/K) + (r + 0.5*vol**2)*T) / (vol*np.sqrt(T))\n",
    "    d2 = d1 - vol * np.sqrt(T)\n",
    "    return S * norm.cdf(d1) - np.exp(-r * T) * K * norm.cdf(d2)\n",
    "\n",
    "def bs_vega(S, K, T, r, sigma):\n",
    "    d1 = (np.log(S / K) + (r + 0.5 * sigma ** 2) * T) / (sigma * np.sqrt(T))\n",
    "    return S * norm.pdf(d1) * np.sqrt(T)\n",
    "\n",
    "def find_vol(target_value, S, K, T, r, *args):\n",
    "    MAX_ITERATIONS = 200\n",
    "    PRECISION = 1.0e-5\n",
    "    sigma = 0.5\n",
    "    for i in range(0, MAX_ITERATIONS):\n",
    "        price = bs_call(S, K, T, r, sigma)\n",
    "        vega = bs_vega(S, K, T, r, sigma)\n",
    "        diff = target_value - price  # our root\n",
    "        if (abs(diff) < PRECISION):\n",
    "            return sigma\n",
    "        sigma = sigma + diff/vega # f(x) / f'(x)\n",
    "    return sigma # value wasn't found, return best guess so far"
   ]
  },
  {
   "cell_type": "code",
   "execution_count": 2,
   "metadata": {},
   "outputs": [
    {
     "name": "stdout",
     "output_type": "stream",
     "text": [
      "Implied vol: 24.90%\n",
      "Market price = 35.83\n",
      "Model price = 35.83\n"
     ]
    }
   ],
   "source": [
    "S = 100\n",
    "K = 100\n",
    "T = 11\n",
    "r = 0.01\n",
    "vol = 0.249\n",
    "\n",
    "V_market = bs_call(S, K, T, r, vol)\n",
    "implied_vol = find_vol(V_market, S, K, T, r)\n",
    "\n",
    "print ('Implied vol: %.2f%%' % (implied_vol * 100))\n",
    "print ('Market price = %.2f' % V_market)\n",
    "print ('Model price = %.2f' % bs_call(S, K, T, r, implied_vol))"
   ]
  },
  {
   "cell_type": "code",
   "execution_count": 3,
   "metadata": {},
   "outputs": [
    {
     "name": "stdout",
     "output_type": "stream",
     "text": [
      "CPU times: user 15.7 s, sys: 223 ms, total: 15.9 s\n",
      "Wall time: 17.2 s\n"
     ]
    }
   ],
   "source": [
    "%%time\n",
    "size = 10000\n",
    "S = np.random.randint(100, 200, size)\n",
    "K = S * 1.25\n",
    "T = np.ones(size)\n",
    "R = np.random.randint(0, 3, size) / 100\n",
    "old_vols = np.random.randint(15, 50, size) / 100\n",
    "prices = bs_call(S, K, T, R, old_vols)\n",
    "\n",
    "params = np.vstack((prices, S, K, T, R, old_vols))\n",
    "vols = list(map(find_vol, *params))"
   ]
  },
  {
   "cell_type": "code",
   "execution_count": 4,
   "metadata": {},
   "outputs": [
    {
     "data": {
      "text/plain": [
       "([0.4500000159209294,\n",
       "  0.24000000000009808,\n",
       "  0.29000000869704046,\n",
       "  0.3100000007512913,\n",
       "  0.24000000000161487,\n",
       "  0.4500000346248506,\n",
       "  0.3100000032335634,\n",
       "  0.22000000001306072,\n",
       "  0.20000000010857016,\n",
       "  0.4700000033043562],\n",
       " array([0.45, 0.24, 0.29, 0.31, 0.24, 0.45, 0.31, 0.22, 0.2 , 0.47]))"
      ]
     },
     "execution_count": 4,
     "metadata": {},
     "output_type": "execute_result"
    }
   ],
   "source": [
    "vols[:10],old_vols[:10]"
   ]
  },
  {
   "cell_type": "markdown",
   "metadata": {},
   "source": [
    "### Optimization\n",
    "\n",
    "If you change all calls to norm.cdf()-method into ndtr(), you will get a 2.4 time performance increase.\n",
    "\n",
    "And if you change norm.pdf()-method into norm._pdf(), you will get another (huge) increase.\n",
    "\n",
    "With both changes implemented, the example above dropped from 17.7 s down to 0.99 s on my machine.\n",
    "\n",
    "You will lose error checking etc. but in this case you probably don't need all that.\n",
    "\n",
    "See: https://github.com/scipy/scipy/issues/1914\n",
    "\n",
    "ndtr() is in scipy.special"
   ]
  },
  {
   "cell_type": "code",
   "execution_count": 5,
   "metadata": {},
   "outputs": [],
   "source": [
    "import scipy"
   ]
  },
  {
   "cell_type": "code",
   "execution_count": 6,
   "metadata": {},
   "outputs": [],
   "source": [
    "new_cdf=scipy.special.ndtr"
   ]
  },
  {
   "cell_type": "code",
   "execution_count": 7,
   "metadata": {},
   "outputs": [],
   "source": [
    "def bs_call(S, K, T, r, vol):\n",
    "    d1 = (np.log(S/K) + (r + 0.5*vol**2)*T) / (vol*np.sqrt(T))\n",
    "    d2 = d1 - vol * np.sqrt(T)\n",
    "    return S * new_cdf(d1) - np.exp(-r * T) * K * new_cdf(d2)\n",
    "\n",
    "def bs_vega(S, K, T, r, sigma):\n",
    "    d1 = (np.log(S / K) + (r + 0.5 * sigma ** 2) * T) / (sigma * np.sqrt(T))\n",
    "    return S * norm._pdf(d1) * np.sqrt(T)\n",
    "\n",
    "def find_vol(target_value, S, K, T, r, *args):\n",
    "    MAX_ITERATIONS = 200\n",
    "    PRECISION = 1.0e-5\n",
    "    sigma = 0.5\n",
    "    for i in range(0, MAX_ITERATIONS):\n",
    "        price = bs_call(S, K, T, r, sigma)\n",
    "        vega = bs_vega(S, K, T, r, sigma)\n",
    "        diff = target_value - price  # our root\n",
    "        if (abs(diff) < PRECISION):\n",
    "            return sigma\n",
    "        sigma = sigma + diff/vega # f(x) / f'(x)\n",
    "    return sigma # value wasn't found, return best guess so far"
   ]
  },
  {
   "cell_type": "code",
   "execution_count": 8,
   "metadata": {},
   "outputs": [
    {
     "name": "stdout",
     "output_type": "stream",
     "text": [
      "CPU times: user 855 ms, sys: 12.8 ms, total: 868 ms\n",
      "Wall time: 979 ms\n"
     ]
    }
   ],
   "source": [
    "%%time\n",
    "size = 10000\n",
    "S = np.random.randint(100, 200, size)\n",
    "K = S * 1.25\n",
    "T = np.ones(size)\n",
    "R = np.random.randint(0, 3, size) / 100\n",
    "old_vols_x= np.random.randint(15, 50, size) / 100\n",
    "prices = bs_call(S, K, T, R, old_vols)\n",
    "\n",
    "params = np.vstack((prices, S, K, T, R, old_vols))\n",
    "vols = list(map(find_vol, *params))"
   ]
  },
  {
   "cell_type": "code",
   "execution_count": 9,
   "metadata": {},
   "outputs": [
    {
     "data": {
      "text/plain": [
       "([0.4500000159209296,\n",
       "  0.24000000000161464,\n",
       "  0.29000001727233676,\n",
       "  0.3100000032335638,\n",
       "  0.24000000000009827,\n",
       "  0.4500000159209296,\n",
       "  0.3100000007512911,\n",
       "  0.22000000004772766,\n",
       "  0.20000000138175483,\n",
       "  0.4700000022471266],\n",
       " array([0.45, 0.24, 0.29, 0.31, 0.24, 0.45, 0.31, 0.22, 0.2 , 0.47]))"
      ]
     },
     "execution_count": 9,
     "metadata": {},
     "output_type": "execute_result"
    }
   ],
   "source": [
    "vols[:10],old_vols[:10]"
   ]
  },
  {
   "cell_type": "markdown",
   "metadata": {},
   "source": [
    "**Much faster!!!!**"
   ]
  },
  {
   "cell_type": "markdown",
   "metadata": {},
   "source": [
    "## Python Vol lib"
   ]
  },
  {
   "cell_type": "code",
   "execution_count": 10,
   "metadata": {},
   "outputs": [],
   "source": [
    "import py_vollib \n",
    "from py_vollib.black_scholes  import black_scholes as bs\n",
    "from py_vollib.black_scholes.implied_volatility import implied_volatility as iv\n",
    "from py_vollib.black_scholes.greeks.analytical import delta \n",
    "from py_vollib.black_scholes.greeks.analytical import gamma\n",
    "from py_vollib.black_scholes.greeks.analytical import rho\n",
    "from py_vollib.black_scholes.greeks.analytical import theta\n",
    "from py_vollib.black_scholes.greeks.analytical import vega\n",
    "import numpy as np\n",
    "\n",
    "#py_vollib.black_scholes.implied_volatility(price, S, K, t, r, flag)\n",
    "\n",
    "\"\"\"\n",
    "price (float) – the Black-Scholes option price\n",
    "S (float) – underlying asset price\n",
    "sigma (float) – annualized standard deviation, or volatility\n",
    "K (float) – strike price\n",
    "t (float) – time to expiration in years\n",
    "r (float) – risk-free interest rate\n",
    "flag (str) – ‘c’ or ‘p’ for call or put.\n",
    "\"\"\"\n",
    "def greek_val(flag, S, K, t, r, sigma):\n",
    "    price = bs(flag, S, K, t, r, sigma)\n",
    "    imp_v = iv(price, S, K, t, r, flag)\n",
    "    delta_calc = delta(flag, S, K, t, r, sigma)\n",
    "    gamma_calc = gamma(flag, S, K, t, r, sigma)\n",
    "    rho_calc = rho(flag, S, K, t, r, sigma)\n",
    "    theta_calc = theta(flag, S, K, t, r, sigma)\n",
    "    vega_calc = vega(flag, S, K, t, r, sigma)\n",
    "    return np.array([ price, imp_v ,theta_calc, delta_calc ,rho_calc ,vega_calc ,gamma_calc])\n",
    "\n"
   ]
  },
  {
   "cell_type": "code",
   "execution_count": 11,
   "metadata": {},
   "outputs": [],
   "source": [
    "\n",
    "S = 8400\n",
    "K = 8600\n",
    "sigma = 16\n",
    "r = 0.07\n",
    "t = 1\n",
    "\n",
    "call=greek_val('c', S, K, t, r, sigma)\n",
    "\n",
    "put=greek_val('p', S, K, t, r, sigma)"
   ]
  },
  {
   "cell_type": "code",
   "execution_count": 12,
   "metadata": {},
   "outputs": [],
   "source": [
    "def find_iv(price,S, K, t, r,flag='c'):\n",
    "    imp_v = iv(price, S, K, t, r, flag)\n",
    "    return imp_v"
   ]
  },
  {
   "cell_type": "code",
   "execution_count": 13,
   "metadata": {},
   "outputs": [
    {
     "data": {
      "text/plain": [
       "array([ 8.40000000e+03,  1.59817715e+01, -9.09784056e-13,  1.00000000e+00,\n",
       "        5.10736966e-14,  4.14642081e-13,  3.67277920e-20])"
      ]
     },
     "execution_count": 13,
     "metadata": {},
     "output_type": "execute_result"
    }
   ],
   "source": [
    "call"
   ]
  },
  {
   "cell_type": "code",
   "execution_count": 14,
   "metadata": {},
   "outputs": [
    {
     "data": {
      "text/plain": [
       "array([ 8.01858685e+03,  1.59817715e+01,  1.53781118e+00, -5.55111512e-16,\n",
       "       -8.01858685e+01,  4.14642081e-13,  3.67277920e-20])"
      ]
     },
     "execution_count": 14,
     "metadata": {},
     "output_type": "execute_result"
    }
   ],
   "source": [
    "put"
   ]
  },
  {
   "cell_type": "code",
   "execution_count": 15,
   "metadata": {},
   "outputs": [
    {
     "name": "stdout",
     "output_type": "stream",
     "text": [
      "CPU times: user 784 ms, sys: 10.6 ms, total: 794 ms\n",
      "Wall time: 868 ms\n"
     ]
    }
   ],
   "source": [
    "%%time\n",
    "size = 10000\n",
    "S = np.random.randint(100, 200, size)\n",
    "K = S * 1.25\n",
    "T = np.ones(size)\n",
    "R = np.random.randint(0, 3, size) / 100\n",
    "vols_x= np.random.randint(15, 50, size) / 100\n",
    "prices = bs_call(S, K, T, R, old_vols)\n",
    "\n",
    "params = np.vstack((prices, S, K, T, R))\n",
    "vols = list(map(find_vol, *params))"
   ]
  },
  {
   "cell_type": "code",
   "execution_count": 16,
   "metadata": {},
   "outputs": [
    {
     "data": {
      "text/plain": [
       "([0.4500000346248508,\n",
       "  0.2400000000004174,\n",
       "  0.2900000086970407,\n",
       "  0.31000000075129114,\n",
       "  0.240000000001615,\n",
       "  0.45000001592092964,\n",
       "  0.3100000007512913,\n",
       "  0.22000000000326156,\n",
       "  0.20000000040538482,\n",
       "  0.4700000014748634],\n",
       " array([0.45, 0.24, 0.29, 0.31, 0.24, 0.45, 0.31, 0.22, 0.2 , 0.47]))"
      ]
     },
     "execution_count": 16,
     "metadata": {},
     "output_type": "execute_result"
    }
   ],
   "source": [
    "vols[:10],old_vols[:10]"
   ]
  },
  {
   "cell_type": "code",
   "execution_count": null,
   "metadata": {},
   "outputs": [],
   "source": []
  }
 ],
 "metadata": {
  "kernelspec": {
   "display_name": "Python 3.8.12 ('tf2')",
   "language": "python",
   "name": "python3"
  },
  "language_info": {
   "codemirror_mode": {
    "name": "ipython",
    "version": 3
   },
   "file_extension": ".py",
   "mimetype": "text/x-python",
   "name": "python",
   "nbconvert_exporter": "python",
   "pygments_lexer": "ipython3",
   "version": "3.8.12"
  },
  "orig_nbformat": 4,
  "vscode": {
   "interpreter": {
    "hash": "d4b8c2c3dcda12b88a1de234d9dc100e2200b96fd567ceed47d2fbc5f06223af"
   }
  }
 },
 "nbformat": 4,
 "nbformat_minor": 2
}
